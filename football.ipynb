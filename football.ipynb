{
 "cells": [
  {
   "cell_type": "code",
   "execution_count": 3,
   "metadata": {},
   "outputs": [],
   "source": [
    "import random\n",
    "import threading\n",
    "import numpy as np"
   ]
  },
  {
   "cell_type": "code",
   "execution_count": 4,
   "metadata": {},
   "outputs": [
    {
     "data": {
      "text/plain": [
       "1"
      ]
     },
     "execution_count": 4,
     "metadata": {},
     "output_type": "execute_result"
    }
   ],
   "source": [
    "# CHAND RAND BRAYE BAZI MIKHAHID:\n",
    "round = int(input(\"how many you want attack to enemy: \"))\n",
    "# CHE TEDAD BAZIKON HOZOOR DASHTE BASHAND \n",
    "pas = random.randint(1,12)\n",
    "pas\n"
   ]
  },
  {
   "cell_type": "code",
   "execution_count": 5,
   "metadata": {},
   "outputs": [],
   "source": [
    "natijeh = [\"block\",\"goal\"]\n",
    "l1 = []\n",
    "l2 = []"
   ]
  },
  {
   "cell_type": "code",
   "execution_count": 6,
   "metadata": {},
   "outputs": [],
   "source": [
    "def footbal(natijeh,pas,l1,finall,i=0):\n",
    "    while True:\n",
    "# KODAM BAZIKONAN DAR HAMLE SHERKAT KONANAD\n",
    "        player = random.randint(1,11)\n",
    "# AGAR AN BAZIKON DAR IN HAMLE NBOOD AN BAZIKKON RO BW IN HAMLE EZAFE KON VA BE TEDAD PAS HA YEKI EZAFE KON\n",
    "        if player not in l1: \n",
    "            l1.append(player)\n",
    "            i+=1\n",
    "# AGAR TEDAD PAS HA BE MIZAN TAEIN SHODE RESID BAZIKON BAYAD SHOOT BEZAND KE GOALKEEPER HARIF YA MIGIRAD YA GOAL MIKHORAD \n",
    "# VA DAR NAHAYAT AN RAND BE PAYAN RESIDE VA BE BAZI EZAFE MISHAVAD\n",
    "# VA DOBARE ANADESAI BARAYE RAND BADI\n",
    "            if i == pas:\n",
    "                vaziat = random.choice(natijeh)\n",
    "                l1.append(vaziat)\n",
    "                finall = finall.append(l1)\n",
    "                i=0\n",
    "                break"
   ]
  },
  {
   "cell_type": "code",
   "execution_count": 7,
   "metadata": {},
   "outputs": [],
   "source": [
    "# HALA DAR IN BAKHSH BE HAMRAVAND VA MOVAZISAZI MIPARDAZIM \n",
    "# KE BE TEDAD RAND BAZI SHDE THRED MISAZIM VA DAR YEK LIST ZAKHIRE MIKONIM \n",
    "if __name__ ==\"__main__\":\n",
    "    thereds = []\n",
    "    for j in range(round):\n",
    "        thered = threading.Thread(target=footbal,args=(natijeh,pas,l1,l2))\n",
    "        thered.start()\n",
    "        thereds.append(thered)\n",
    "        l1 = []\n",
    "\n",
    "    for z in thereds:\n",
    "        z.join()\n",
    "\n",
    "      "
   ]
  },
  {
   "cell_type": "code",
   "execution_count": 8,
   "metadata": {},
   "outputs": [
    {
     "name": "stdout",
     "output_type": "stream",
     "text": [
      "end of game:\n"
     ]
    },
    {
     "data": {
      "text/plain": [
       "[[5, 'block'],\n",
       " [3, 'block'],\n",
       " [9, 'goal'],\n",
       " [6, 'block'],\n",
       " [6, 'goal'],\n",
       " [7, 'goal'],\n",
       " [9, 'goal']]"
      ]
     },
     "execution_count": 8,
     "metadata": {},
     "output_type": "execute_result"
    }
   ],
   "source": [
    "print(\"end of game:\")\n",
    "l2"
   ]
  },
  {
   "cell_type": "code",
   "execution_count": 9,
   "metadata": {},
   "outputs": [
    {
     "data": {
      "text/plain": [
       "4"
      ]
     },
     "execution_count": 9,
     "metadata": {},
     "output_type": "execute_result"
    }
   ],
   "source": [
    "# INJA PERFORMANCE TEAM RO MISANJIM \n",
    "target_count = 0\n",
    "for i in l2:\n",
    "    if i[-1] == \"goal\":\n",
    "        target_count += 1\n",
    "\n",
    "target_count\n"
   ]
  },
  {
   "cell_type": "code",
   "execution_count": 10,
   "metadata": {},
   "outputs": [
    {
     "name": "stdout",
     "output_type": "stream",
     "text": [
      "TEAM PERFORMANCE IS GOOD!\n"
     ]
    }
   ],
   "source": [
    "if (target_count/round) >= 0.75:\n",
    "    print(\"TEAM PERFORMANCE IS EXCELLENT!\")\n",
    "elif 0.5<=(target_count/round)<0.75:\n",
    "    print(\"TEAM PERFORMANCE IS GOOD!\")\n",
    "elif 0.3<=(target_count/round)<0.5:\n",
    "    print(\"TEAM PERFORMANCE IS BAD!\")\n",
    "else:\n",
    "    print(\"TEAM PERFORMANCE IS AWFUL!\")"
   ]
  },
  {
   "cell_type": "code",
   "execution_count": null,
   "metadata": {},
   "outputs": [],
   "source": []
  },
  {
   "cell_type": "code",
   "execution_count": null,
   "metadata": {},
   "outputs": [],
   "source": []
  }
 ],
 "metadata": {
  "kernelspec": {
   "display_name": "Python 3",
   "language": "python",
   "name": "python3"
  },
  "language_info": {
   "codemirror_mode": {
    "name": "ipython",
    "version": 3
   },
   "file_extension": ".py",
   "mimetype": "text/x-python",
   "name": "python",
   "nbconvert_exporter": "python",
   "pygments_lexer": "ipython3",
   "version": "undefined.undefined.undefined"
  }
 },
 "nbformat": 4,
 "nbformat_minor": 2
}
